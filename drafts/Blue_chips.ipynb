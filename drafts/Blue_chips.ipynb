{
 "cells": [
  {
   "cell_type": "code",
   "execution_count": 107,
   "metadata": {},
   "outputs": [],
   "source": [
    "import pandas as pd\n",
    "import json\n",
    "from datetime import datetime\n",
    "import requests"
   ]
  },
  {
   "cell_type": "code",
   "execution_count": 108,
   "metadata": {},
   "outputs": [],
   "source": [
    "tickers=[\"MOEX\",\"GAZP\",\"SBER\"]\n",
    "now=datetime.now().date()\n",
    "data=pd.DataFrame()\n",
    "i=0\n",
    "start_date=\"2014-01-01\"\n",
    "while True:\n",
    "    url = (\n",
    "                f'http://iss.moex.com/iss/engines/stock/markets/shares/securities/'\n",
    "                f'MOEX/candles.json?from={start_date}&till={now}&interval=24&start={i}'\n",
    "            )\n",
    "        \n",
    "    response=requests.get(url).json()\n",
    "    if len(response['candles']['data'])==0:\n",
    "           break\n",
    "    df=pd.DataFrame(columns=response['candles']['columns'], data=response['candles']['data'])\n",
    "    df.rename(columns={'begin':'date'}, inplace=True)\n",
    "    data=pd.concat([data,df['date']])\n",
    "    i+=500\n",
    "\n",
    "data['date'] = pd.to_datetime(data['date'])\n",
    "data.set_index('date',inplace=True)\n",
    "\n",
    "\n",
    "for ticker in tickers:\n",
    "    i=0\n",
    "    ans=pd.DataFrame()\n",
    "    while True:\n",
    "\n",
    "        url = (\n",
    "                f'http://iss.moex.com/iss/engines/stock/markets/shares/securities/'\n",
    "                f'{ticker}/candles.json?from={start_date}&till={now}&interval=24&start={i}'\n",
    "            )\n",
    "        \n",
    "        response=requests.get(url).json()\n",
    "        # print(len(response['candles']['data']))\n",
    "        if len(response['candles']['data'])==0:\n",
    "               break\n",
    "        df=pd.DataFrame(columns=response['candles']['columns'], data=response['candles']['data'])\n",
    "        ans=pd.concat([ans,df])\n",
    "        i+=500\n",
    "\n",
    "    ans=ans[['begin','open']]\n",
    "    ans.rename(columns={\"open\":ticker,\"begin\":\"date\"},inplace=True)\n",
    "    ans['date'] = pd.to_datetime(ans['date'])\n",
    "    ans.set_index('date',inplace=True)\n",
    "    data=pd.concat([data,ans], axis=1)\n",
    "\n",
    "\n",
    "\n",
    "       \n",
    "    \n",
    "\n",
    "\n",
    "    "
   ]
  }
 ],
 "metadata": {
  "kernelspec": {
   "display_name": "project1",
   "language": "python",
   "name": "python3"
  },
  "language_info": {
   "codemirror_mode": {
    "name": "ipython",
    "version": 3
   },
   "file_extension": ".py",
   "mimetype": "text/x-python",
   "name": "python",
   "nbconvert_exporter": "python",
   "pygments_lexer": "ipython3",
   "version": "3.12.6"
  }
 },
 "nbformat": 4,
 "nbformat_minor": 2
}
