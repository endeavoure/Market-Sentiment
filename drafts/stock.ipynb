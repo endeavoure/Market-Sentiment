{
 "cells": [
  {
   "cell_type": "code",
   "execution_count": 47,
   "metadata": {},
   "outputs": [
    {
     "ename": "TypeError",
     "evalue": "strptime() takes exactly 2 arguments (0 given)",
     "output_type": "error",
     "traceback": [
      "\u001b[0;31m---------------------------------------------------------------------------\u001b[0m",
      "\u001b[0;31mTypeError\u001b[0m                                 Traceback (most recent call last)",
      "Cell \u001b[0;32mIn[47], line 3\u001b[0m\n\u001b[1;32m      1\u001b[0m \u001b[38;5;28;01mimport\u001b[39;00m \u001b[38;5;21;01mrequests\u001b[39;00m\n\u001b[1;32m      2\u001b[0m start\u001b[38;5;241m=\u001b[39m\u001b[38;5;124m\"\u001b[39m\u001b[38;5;124m12 яеваря 2021\u001b[39m\u001b[38;5;124m\"\u001b[39m\n\u001b[0;32m----> 3\u001b[0m start \u001b[38;5;241m=\u001b[39m \u001b[43mdatetime\u001b[49m\u001b[38;5;241;43m.\u001b[39;49m\u001b[43mstrptime\u001b[49m\u001b[43m(\u001b[49m\u001b[43m)\u001b[49m\n\u001b[1;32m      4\u001b[0m \u001b[38;5;66;03m# Выполнение запроса к API Московской биржи\u001b[39;00m\n\u001b[1;32m      5\u001b[0m j \u001b[38;5;241m=\u001b[39m requests\u001b[38;5;241m.\u001b[39mget(\u001b[38;5;124m'\u001b[39m\u001b[38;5;124mhttp://iss.moex.com/iss/engines/stock/markets/shares/securities/MOEX/candles.json?from=\u001b[39m\u001b[38;5;132;01m{start}\u001b[39;00m\u001b[38;5;124m}&till=\u001b[39m\u001b[38;5;132;01m{end}\u001b[39;00m\u001b[38;5;124m&interval=24\u001b[39m\u001b[38;5;124m'\u001b[39m)\u001b[38;5;241m.\u001b[39mjson()\n",
      "\u001b[0;31mTypeError\u001b[0m: strptime() takes exactly 2 arguments (0 given)"
     ]
    }
   ],
   "source": [
    "import requests\n",
    "start=\"12 яеваря 2021\"\n",
    "start = datetime.strptime()\n",
    "# Выполнение запроса к API Московской биржи\n",
    "j = requests.get('http://iss.moex.com/iss/engines/stock/markets/shares/securities/MOEX/candles.json?from={start}}&till={end}&interval=24').json()\n",
    "\n"
   ]
  },
  {
   "cell_type": "code",
   "execution_count": 104,
   "metadata": {},
   "outputs": [
    {
     "name": "stdout",
     "output_type": "stream",
     "text": [
      "-0.0054599773359429995\n"
     ]
    }
   ],
   "source": [
    "from datetime import datetime, timedelta\n",
    "import re\n",
    "import traceback\n",
    "import pandas as pd\n",
    "ticker = \"MOEX\"\n",
    "\n",
    "date=\"6 января в 15:31\"\n",
    "\n",
    "pattern_previous_years = r'^([1-9]|[12][0-9]|3[01])\\s+(января|февраля|марта|апреля|мая|июня|июля|августа|сентября|октября|ноября|декабря)\\s+(\\d{4})$'\n",
    "pattern_this_year = r'^([1-9]|[12][0-9]|3[01])\\s+(января|февраля|марта|апреля|мая|июня|июля|августа|сентября|октября|ноября|декабря)\\s+в\\s+([01][0-9]|2[0-3]):([0-5][0-9])$'\n",
    "\n",
    "class CustomError(Exception):\n",
    "    pass\n",
    "\n",
    "try:     \n",
    "    one_day=timedelta(days=1)   \n",
    "    months = {\n",
    "            \"января\": \"01\",\n",
    "            \"февраля\": \"02\",\n",
    "            \"марта\": \"03\",\n",
    "            \"апреля\": \"04\",\n",
    "            \"мая\": \"05\",\n",
    "            \"июня\": \"06\",\n",
    "            \"июля\": \"07\",\n",
    "            \"августа\": \"08\",\n",
    "            \"сентября\": \"09\",\n",
    "            \"октября\": \"10\",\n",
    "            \"ноября\": \"11\",\n",
    "            \"декабря\": \"12\"\n",
    "        }\n",
    "\n",
    "    date = date.split()\n",
    "    now=datetime.now()\n",
    "    if date[0]==\"Сегодня\":\n",
    "        pass\n",
    "    elif date[0]==\"Вчера\":\n",
    "        date_start=now-timedelta(days=1)\n",
    "    elif re.match(pattern_previous_years,\" \".join(date)) is not None:   \n",
    "        date[1]=months[date[1]]\n",
    "        date=' '.join(date)\n",
    "        date_start = datetime.strptime(date, '%d %m %Y')\n",
    "    elif re.match(pattern_this_year,\" \".join(date)) is not None:\n",
    "        date[1]=months[date[1]]\n",
    "        date.insert(2,\"2024\")\n",
    "        date=' '.join(date)  \n",
    "        date_start = datetime.strptime(date, '%d %m %Y в %H:%M')\n",
    "    else:\n",
    "        raise CustomError(\"Нет паттерна для такого формата даты\")\n",
    "    \n",
    "    date_end = date_start+one_day\n",
    "\n",
    "    j = requests.get(f'http://iss.moex.com/iss/engines/stock/markets/shares/securities/{ticker}/candles.json?from={date_start.date()}&till={date_end.date()}&interval=24').json()\n",
    "\n",
    "    def fix_holidays(j, date_start, date_end):\n",
    "        if (len(j[\"candles\"][\"data\"]))==2:\n",
    "            return j\n",
    "\n",
    "        elif (len(j[\"candles\"][\"data\"]))==1:\n",
    "            while (len(j[\"candles\"][\"data\"]))!=2:\n",
    "                if date_start.date()==datetime.strptime(j[\"candles\"][\"data\"][0][6],\"%Y-%m-%d %H:%M:%S\").date():\n",
    "                    date_end=date_end+one_day\n",
    "                elif date_end.date()==datetime.strptime(j[\"candles\"][\"data\"][0][6],\"%Y-%m-%d %H:%M:%S\").date():\n",
    "                    date_start=date_start-one_day                                   \n",
    "                else: \n",
    "                    raise CustomError(\"Какая то хрень с выявлением выходных\")\n",
    "                j = requests.get(f'http://iss.moex.com/iss/engines/stock/markets/shares/securities/{ticker}/candles.json?from={date_start.date()}&till={date_end.date()}&interval=24').json()\n",
    "            return j\n",
    "        \n",
    "        elif (len(j[\"candles\"][\"data\"]))==0:\n",
    "            date_end=date_end+one_day\n",
    "            date_start=date_start-one_day \n",
    "            j = requests.get(f'http://iss.moex.com/iss/engines/stock/markets/shares/securities/{ticker}/candles.json?from={date_start.date()}&till={date_end.date()}&interval=24').json()\n",
    "            return fix_holidays(j, date_start, date_end)\n",
    "    j=fix_holidays(j, date_start, date_end)\n",
    "    data = [{k: r[i] for i, k in enumerate(j['candles']['columns'])} for r in j['candles']['data']]\n",
    "\n",
    "    # Вывод данных\n",
    "    print((data[1][\"open\"]-data[0][\"open\"])/data[0]['open'])\n",
    "\n",
    "except Exception as e:\n",
    "    print(f\"Ошибка: {e}\")\n",
    "    traceback.print_exc()"
   ]
  },
  {
   "cell_type": "code",
   "execution_count": 90,
   "metadata": {},
   "outputs": [
    {
     "data": {
      "text/html": [
       "<div>\n",
       "<style scoped>\n",
       "    .dataframe tbody tr th:only-of-type {\n",
       "        vertical-align: middle;\n",
       "    }\n",
       "\n",
       "    .dataframe tbody tr th {\n",
       "        vertical-align: top;\n",
       "    }\n",
       "\n",
       "    .dataframe thead th {\n",
       "        text-align: right;\n",
       "    }\n",
       "</style>\n",
       "<table border=\"1\" class=\"dataframe\">\n",
       "  <thead>\n",
       "    <tr style=\"text-align: right;\">\n",
       "      <th></th>\n",
       "      <th>open</th>\n",
       "      <th>close</th>\n",
       "      <th>high</th>\n",
       "      <th>low</th>\n",
       "      <th>value</th>\n",
       "      <th>volume</th>\n",
       "      <th>begin</th>\n",
       "      <th>end</th>\n",
       "    </tr>\n",
       "  </thead>\n",
       "  <tbody>\n",
       "    <tr>\n",
       "      <th>0</th>\n",
       "      <td>107.2</td>\n",
       "      <td>107.75</td>\n",
       "      <td>108.2</td>\n",
       "      <td>106.94</td>\n",
       "      <td>430513601.2</td>\n",
       "      <td>3991460</td>\n",
       "      <td>2019-12-30 00:00:00</td>\n",
       "      <td>2019-12-30 23:59:59</td>\n",
       "    </tr>\n",
       "  </tbody>\n",
       "</table>\n",
       "</div>"
      ],
      "text/plain": [
       "    open   close   high     low        value   volume                begin  \\\n",
       "0  107.2  107.75  108.2  106.94  430513601.2  3991460  2019-12-30 00:00:00   \n",
       "\n",
       "                   end  \n",
       "0  2019-12-30 23:59:59  "
      ]
     },
     "execution_count": 90,
     "metadata": {},
     "output_type": "execute_result"
    }
   ],
   "source": [
    "import pandas as pd\n",
    "j = requests.get(f'http://iss.moex.com/iss/engines/stock/markets/shares/securities/MOEX/candles.json?from=2019-12-30&till=2020-01-01&interval=24').json()\n",
    "data=pd.DataFrame(columns=j[\"candles\"][\"columns\"], data=j[\"candles\"][\"data\"])\n",
    "data.head()"
   ]
  },
  {
   "cell_type": "code",
   "execution_count": 96,
   "metadata": {},
   "outputs": [
    {
     "name": "stdout",
     "output_type": "stream",
     "text": [
      "2019-12-30 00:00:00\n"
     ]
    }
   ],
   "source": [
    "j = requests.get(f'http://iss.moex.com/iss/engines/stock/markets/shares/securities/MOEX/candles.json?from=2019-12-30&till=2020-01-01&interval=24').json()\n",
    "print(j[\"candles\"][\"data\"][0][6])"
   ]
  },
  {
   "cell_type": "code",
   "execution_count": null,
   "metadata": {},
   "outputs": [],
   "source": []
  }
 ],
 "metadata": {
  "kernelspec": {
   "display_name": "project1",
   "language": "python",
   "name": "python3"
  },
  "language_info": {
   "codemirror_mode": {
    "name": "ipython",
    "version": 3
   },
   "file_extension": ".py",
   "mimetype": "text/x-python",
   "name": "python",
   "nbconvert_exporter": "python",
   "pygments_lexer": "ipython3",
   "version": "3.12.6"
  }
 },
 "nbformat": 4,
 "nbformat_minor": 2
}
