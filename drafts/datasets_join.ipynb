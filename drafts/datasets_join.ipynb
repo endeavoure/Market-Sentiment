{
 "cells": [
  {
   "cell_type": "code",
   "execution_count": 99,
   "metadata": {},
   "outputs": [],
   "source": [
    "import numpy as np\n",
    "import pandas as pd\n",
    "from datetime import datetime\n",
    "import locale"
   ]
  },
  {
   "cell_type": "code",
   "execution_count": 100,
   "metadata": {},
   "outputs": [],
   "source": [
    "# Dates to datetime in news dataset\n",
    "news_data = pd.read_json('/Users/alexanderknyshov/Desktop/LLM/Data/datasets/news_data_new.json', lines=True)\n",
    "date = []\n",
    "for i in range(len(news_data['publishedAt'])):\n",
    "    date.append(pd.to_datetime(news_data['publishedAt'][i], dayfirst=True, errors='coerce'))\n",
    "for i in range(len(news_data['publishedAt'])):\n",
    "    news_data.loc[i, 'publishedAt'] = date[i]"
   ]
  },
  {
   "cell_type": "code",
   "execution_count": 101,
   "metadata": {},
   "outputs": [],
   "source": [
    "# Joint recommendations dataset\n",
    "rec1 = pd.read_json('/Users/alexanderknyshov/Desktop/LLM/Data/datasets/invest_recommendations.json')\n",
    "rec2 = pd.read_json('/Users/alexanderknyshov/Desktop/LLM/Data/datasets/recommendations.json')\n",
    "\n",
    "rec2 = rec2.rename(columns={'titles': 'title'})\n",
    "rec2 = rec2.drop(columns=['hrefs'])"
   ]
  },
  {
   "cell_type": "code",
   "execution_count": 102,
   "metadata": {},
   "outputs": [],
   "source": [
    "date = []\n",
    "for i in range(len(rec1['publishedAt'])):\n",
    "    date.append(pd.to_datetime(rec1['publishedAt'][i], format='%d %B %Y, %H:%M'))\n",
    "for i in range(len(rec1['publishedAt'])):\n",
    "    rec1.loc[i, 'publishedAt'] = date[i]\n",
    "    \n",
    "date = []\n",
    "for i in range(len(rec2['publishedAt'])):\n",
    "    date.append(pd.to_datetime(rec2['publishedAt'][i], format='%d %B %Y', errors='coerce'))\n",
    "for i in range(len(rec2['publishedAt'])):\n",
    "    rec2.loc[i, 'publishedAt'] = date[i]\n",
    "\n",
    "recommendations = pd.concat([rec1, rec2], ignore_index=True)"
   ]
  }
 ],
 "metadata": {
  "kernelspec": {
   "display_name": "venv",
   "language": "python",
   "name": "python3"
  },
  "language_info": {
   "codemirror_mode": {
    "name": "ipython",
    "version": 3
   },
   "file_extension": ".py",
   "mimetype": "text/x-python",
   "name": "python",
   "nbconvert_exporter": "python",
   "pygments_lexer": "ipython3",
   "version": "3.11.8"
  }
 },
 "nbformat": 4,
 "nbformat_minor": 2
}
