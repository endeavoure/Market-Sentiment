{
 "cells": [
  {
   "cell_type": "code",
   "execution_count": 59,
   "metadata": {},
   "outputs": [],
   "source": [
    "import requests\n",
    "import time\n",
    "from bs4 import BeautifulSoup\n",
    "from selenium import webdriver\n",
    "from selenium.webdriver.common.by import By\n",
    "from selenium.webdriver.chrome.service import Service\n",
    "from selenium.webdriver.chrome.options import Options\n",
    "from selenium.webdriver.common.action_chains import ActionChains\n",
    "from selenium.webdriver.common.keys import Keys\n",
    "from selenium.webdriver.support.ui import WebDriverWait\n",
    "from selenium.webdriver.support import expected_conditions as EC\n",
    "from selenium.common.exceptions import NoSuchElementException\n"
   ]
  },
  {
   "cell_type": "code",
   "execution_count": 60,
   "metadata": {},
   "outputs": [],
   "source": [
    "url = 'https://bcs-express.ru/investidei?status=executed'\n",
    "driver = webdriver.Chrome()\n",
    "driver.get(url)\n",
    "driver.implicitly_wait(5)  # Ожидание прогрузки страницы до 5 секунд\n",
    "data = {'strategy_idea': [], 'instrument': [], 'price_open': [], 'price_close': [], 'profitability': [], 'date_open': [], 'date_close': [], 'period': []}\n",
    "data_site = [ ['strategy_idea', 'a', 'Z0rh'], ['instrument', 'div', 'NW12 jL1o']]"
   ]
  },
  {
   "cell_type": "code",
   "execution_count": null,
   "metadata": {},
   "outputs": [],
   "source": [
    "while True:\n",
    "    page_source = driver.page_source\n",
    "    soup = BeautifulSoup(page_source, 'html.parser')\n",
    "\n",
    "    try:\n",
    "        \n",
    "        button_element = driver.find_element(By.CSS_SELECTOR, \"[data-id='button-more']\")\n",
    "        \n",
    "        # Клик кнопки\n",
    "        button_element.click()\n",
    "\n",
    "        # Даем время для загрузки новых элементов\n",
    "        time.sleep(2)\n",
    "    \n",
    "    except NoSuchElementException:\n",
    "        # Если кнопка больше не найдена\n",
    "        print(\"Кнопка 'Показать еще' больше не доступна.\")\n",
    "        break"
   ]
  },
  {
   "cell_type": "code",
   "execution_count": 62,
   "metadata": {},
   "outputs": [],
   "source": [
    "def add_infromation(name_column: str, dv: str, class_html: str):\n",
    "    soupchik = soup.find_all(dv, class_ = class_html)\n",
    "    print(soupchik)\n",
    "    for line in soupchik: # Добавляем информацию в массив данных\n",
    "        href = line.get('href')\n",
    "        data[name_column].append(href)\n",
    "    print(data[name_column])"
   ]
  },
  {
   "cell_type": "code",
   "execution_count": null,
   "metadata": {},
   "outputs": [],
   "source": [
    "for i in range (0, 1):\n",
    "    add_infromation(name_column = data_site[i][0], dv = data_site[i][1], class_html = data_site[i][2])"
   ]
  },
  {
   "cell_type": "code",
   "execution_count": 64,
   "metadata": {},
   "outputs": [
    {
     "name": "stdout",
     "output_type": "stream",
     "text": [
      "[]\n"
     ]
    }
   ],
   "source": [
    "print(data['instrument'])"
   ]
  },
  {
   "cell_type": "code",
   "execution_count": 65,
   "metadata": {},
   "outputs": [],
   "source": [
    "driver.quit()"
   ]
  }
 ],
 "metadata": {
  "kernelspec": {
   "display_name": "Python 3",
   "language": "python",
   "name": "python3"
  },
  "language_info": {
   "codemirror_mode": {
    "name": "ipython",
    "version": 3
   },
   "file_extension": ".py",
   "mimetype": "text/x-python",
   "name": "python",
   "nbconvert_exporter": "python",
   "pygments_lexer": "ipython3",
   "version": "3.11.8"
  }
 },
 "nbformat": 4,
 "nbformat_minor": 2
}
