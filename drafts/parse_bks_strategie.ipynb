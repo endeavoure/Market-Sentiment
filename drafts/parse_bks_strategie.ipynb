{
 "cells": [
  {
   "cell_type": "code",
   "execution_count": 8,
   "metadata": {},
   "outputs": [],
   "source": [
    "import requests\n",
    "import time\n",
    "from bs4 import BeautifulSoup\n",
    "from selenium import webdriver\n",
    "from selenium.webdriver.common.by import By\n",
    "from selenium.webdriver.chrome.service import Service\n",
    "from selenium.webdriver.chrome.options import Options\n",
    "from selenium.webdriver.common.action_chains import ActionChains\n",
    "from selenium.webdriver.common.keys import Keys\n",
    "from selenium.webdriver.support.ui import WebDriverWait\n",
    "from selenium.webdriver.support import expected_conditions as EC\n",
    "from selenium.common.exceptions import NoSuchElementException\n"
   ]
  },
  {
   "cell_type": "code",
   "execution_count": 9,
   "metadata": {},
   "outputs": [],
   "source": [
    "url = 'https://gazprombank.investments/ideas/?ARCHIVE=yes'\n",
    "driver = webdriver.Chrome()\n",
    "driver.get(url)\n",
    "driver.implicitly_wait(5)  # Ожидание прогрузки страницы до 5 секунд\n",
    "data = {'strategy_idea': [], 'instrument': [], 'price_open': [], 'price_close': [], 'profitability': [], 'date_open': [], 'date_close': [], 'period': []}\n",
    "data_site = [ ['strategy_idea', 'div', 'h3 investment-card__name'], ['profitability', 'div', 'h3 investment-card__value']]"
   ]
  },
  {
   "cell_type": "code",
   "execution_count": 10,
   "metadata": {},
   "outputs": [
    {
     "name": "stdout",
     "output_type": "stream",
     "text": [
      "Кнопка 'Показать еще' больше не доступна.\n"
     ]
    }
   ],
   "source": [
    "while True:\n",
    "    page_source = driver.page_source\n",
    "    soup = BeautifulSoup(page_source, 'html.parser')\n",
    "\n",
    "    try:\n",
    "        \n",
    "        button_element = driver.find_element(By.CSS_SELECTOR, \"[data-text='Показать еще']\")\n",
    "        \n",
    "        # Клик кнопки\n",
    "        driver.execute_script(\"arguments[0].scrollIntoView(true);\", button_element)\n",
    "        button_element.click()\n",
    "\n",
    "        # Даем время для загрузки новых элементов\n",
    "        time.sleep(3)\n",
    "        \n",
    "\n",
    "    \n",
    "    except :\n",
    "        # Если кнопка больше не найдена\n",
    "        print(\"Кнопка 'Показать еще' больше не доступна.\")\n",
    "        break"
   ]
  },
  {
   "cell_type": "code",
   "execution_count": 11,
   "metadata": {},
   "outputs": [],
   "source": [
    "def add_infromation(name_column: str, dv: str, class_html: str):\n",
    "    soupchik = soup.find_all(dv, class_ = class_html)\n",
    "    for line in soupchik: # Добавляем информацию в массив данных\n",
    "        href = line.text\n",
    "        data[name_column].append(href)\n",
    "    print(data[name_column])"
   ]
  },
  {
   "cell_type": "code",
   "execution_count": 12,
   "metadata": {},
   "outputs": [
    {
     "name": "stdout",
     "output_type": "stream",
     "text": [
      "['Парная идея: лонг ЮГК, шорт АЛРОСА', 'ФосАгро в шорт: слабые финансовые результаты и низкая дивидендная доходность', 'Аэрофлот: в ожидании сильного отчета', 'Совкомфлот: плата за перевозку груза и доллар США растут', 'Globaltrans: низкая цена за качественный бизнес', 'Роснефть: ребалансировка фондов на исходе', 'Совкомбанк: рост на фоне слияния', 'Русагро: сильный отчет и переезд в Россию', 'ЛСР — могут приятно удивить', 'Сбер — голубая фишка с низким риском и потенциалом роста', 'Сургутнефтегаз прив.: потенциально высокие дивиденды', 'ЛУКОЙЛ: в ожидании сильного отчета и рекордных дивидендов ', 'ЕМС: успешный переезд дает возможность платить дивиденды', 'Черкизово: сильный отчет на фоне роста цен на курицу', 'Роснефть: закрываем дивидендный гэп', 'НЛМК: догнать коллег по сектору', 'X5 Group: в списке значимых компаний ', 'Северсталь: после дивидендной паузы', 'Эталон: вероятность возврата к дивидендам после перерегистрации', 'Совкомбанк: рост после выхода на биржу', 'Транснефть: впереди сплит акций', 'НОВАТЭК: в ожидании запуска Арктик СПГ-2', 'ЮГК: рост добычи и производства ', 'АЛРОСА: спустилась на линию поддержки', 'ЛУКОЙЛ: рост цены к дивидендной отсечке', 'Яндекс: в ожидании подробностей разделения', 'Whoosh: сильный отчет, обратный выкуп и дивиденды', 'Роснефть: ждем сильный отчет, а дивиденды — бонус', 'VK: восстановление после переезда', 'Норникель в шорт: небольшие дивиденды и слабая конъюнктура', 'OZON: линия поддержки и сильный отчет', 'Башнефть: сильный отчет на сильной конъюнктуре', 'Globaltrans: на линии поддержки и сильной конъюнктуре', 'Магнит: выкуп акций у нерезидентов и отложенные дивиденды', 'Астра Групп: компания, которая делает Linux', 'Novabev: закрытие дивидендного гэпа', 'ОФЗ 26229: ставка на инверсию', 'НЛМК: инвестидея в шорт', 'Северсталь: есть повод для роста', 'АФК Система: растущие активы и погашение долга', 'ЛУКОЙЛ: выкуп акций у нерезидентов', 'Белуга: ставка на сильный отчет за полугодие', 'Whoosh: в ожидании сильного отчета', 'МТС: инвестидея в шорт', 'Татнефть: несостоявшееся собрание акционеров', 'ФосАгро: инвестидея в шорт', 'Самолет: выкуп акций и отложенные дивиденды', 'АФК Система: корзина активов', 'TCS Group: верим в банковский бизнес', 'ЛУКОЙЛ: ждем дивиденды', 'ОГК-2: генерация стабильна', 'Сегежа: ставка на восстановление', 'Ozon может показать сильный отчет', 'Замещающие облигации ГазКЗ-27Д2', 'Сбер: один из лидеров сектора', 'Positive Technologies: кибербезопасность']\n",
      "['16%', '8%', '14%', '0%', '0%', '0%', '0%', '3%', '13%', '16%', '25%', '15%', '9%', '5%', '1,5%', '11%', '10%', '10,1%', '12%', '41%', '10%', '-5%', '35%', '7%', '5%', '14%', '11%', '12%', '10%', '8,5%', '13%', '11%', '20%', '32%', '85%', '9%', '0%', '26%', '10%', '28%', '24%', '40%', '13%', '12,7%', '9,8%', '14%', '13,8%', '11%', '10%', '41%', '21%', '30%', '12%', '6,4%', '50%', '14%']\n"
     ]
    }
   ],
   "source": [
    "add_infromation(name_column = data_site[0][0], dv = data_site[0][1], class_html = data_site[0][2])\n",
    "add_infromation(name_column = data_site[1][0], dv = data_site[1][1], class_html = data_site[1][2])"
   ]
  },
  {
   "cell_type": "code",
   "execution_count": 13,
   "metadata": {},
   "outputs": [
    {
     "name": "stdout",
     "output_type": "stream",
     "text": [
      "56\n"
     ]
    }
   ],
   "source": [
    "print(len(data['strategy_idea']))"
   ]
  },
  {
   "cell_type": "code",
   "execution_count": 14,
   "metadata": {},
   "outputs": [],
   "source": [
    "driver.quit()"
   ]
  }
 ],
 "metadata": {
  "kernelspec": {
   "display_name": "Python 3",
   "language": "python",
   "name": "python3"
  },
  "language_info": {
   "codemirror_mode": {
    "name": "ipython",
    "version": 3
   },
   "file_extension": ".py",
   "mimetype": "text/x-python",
   "name": "python",
   "nbconvert_exporter": "python",
   "pygments_lexer": "ipython3",
   "version": "3.11.8"
  }
 },
 "nbformat": 4,
 "nbformat_minor": 2
}
