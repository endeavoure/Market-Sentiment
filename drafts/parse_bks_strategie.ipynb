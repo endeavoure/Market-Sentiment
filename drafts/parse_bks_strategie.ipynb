{
 "cells": [
  {
   "cell_type": "code",
   "execution_count": 4,
   "metadata": {},
   "outputs": [],
   "source": [
    "import requests\n",
    "import time\n",
    "from bs4 import BeautifulSoup\n",
    "from selenium import webdriver\n",
    "from selenium.webdriver.common.by import By\n",
    "from selenium.webdriver.chrome.service import Service\n",
    "from selenium.webdriver.chrome.options import Options\n",
    "from selenium.webdriver.common.action_chains import ActionChains\n",
    "from selenium.webdriver.common.keys import Keys\n",
    "from selenium.webdriver.support.ui import WebDriverWait\n",
    "from selenium.webdriver.support import expected_conditions as EC\n",
    "from selenium.common.exceptions import NoSuchElementException\n"
   ]
  },
  {
   "cell_type": "code",
   "execution_count": 5,
   "metadata": {},
   "outputs": [],
   "source": [
    "url = 'https://gazprombank.investments/ideas/?ARCHIVE=yes'\n",
    "driver = webdriver.Chrome()\n",
    "driver.get(url)\n",
    "driver.implicitly_wait(5)  # Ожидание прогрузки страницы до 5 секунд\n",
    "data = {'strategy_idea': [], 'instrument': [], 'price_open': [], 'price_close': [], 'profitability': [], 'date_open': [], 'date_close': [], 'period': []}\n",
    "data_site = [ ['strategy_idea', 'li', 'h3 investment-card__name'], ['instrument', 'div', 'NW12 jL1o']]"
   ]
  },
  {
   "cell_type": "code",
   "execution_count": 6,
   "metadata": {},
   "outputs": [
    {
     "ename": "ElementNotInteractableException",
     "evalue": "Message: element not interactable\n  (Session info: chrome=128.0.6613.139)\nStacktrace:\n0   chromedriver                        0x0000000100a35208 cxxbridge1$str$ptr + 1927396\n1   chromedriver                        0x0000000100a2d66c cxxbridge1$str$ptr + 1895752\n2   chromedriver                        0x0000000100628670 cxxbridge1$string$len + 89156\n3   chromedriver                        0x000000010066dbf8 cxxbridge1$string$len + 373196\n4   chromedriver                        0x00000001006635d4 cxxbridge1$string$len + 330664\n5   chromedriver                        0x0000000100663064 cxxbridge1$string$len + 329272\n6   chromedriver                        0x00000001006a6228 cxxbridge1$string$len + 604156\n7   chromedriver                        0x0000000100661698 cxxbridge1$string$len + 322668\n8   chromedriver                        0x0000000100662310 cxxbridge1$string$len + 325860\n9   chromedriver                        0x00000001009fbe78 cxxbridge1$str$ptr + 1693012\n10  chromedriver                        0x0000000100a0077c cxxbridge1$str$ptr + 1711704\n11  chromedriver                        0x00000001009e13ec cxxbridge1$str$ptr + 1583816\n12  chromedriver                        0x0000000100a0104c cxxbridge1$str$ptr + 1713960\n13  chromedriver                        0x00000001009d1fc8 cxxbridge1$str$ptr + 1521316\n14  chromedriver                        0x0000000100a1eb68 cxxbridge1$str$ptr + 1835588\n15  chromedriver                        0x0000000100a1ece4 cxxbridge1$str$ptr + 1835968\n16  chromedriver                        0x0000000100a2d308 cxxbridge1$str$ptr + 1894884\n17  libsystem_pthread.dylib             0x0000000187a0f2e4 _pthread_start + 136\n18  libsystem_pthread.dylib             0x0000000187a0a0fc thread_start + 8\n",
     "output_type": "error",
     "traceback": [
      "\u001b[0;31m---------------------------------------------------------------------------\u001b[0m",
      "\u001b[0;31mElementNotInteractableException\u001b[0m           Traceback (most recent call last)",
      "Cell \u001b[0;32mIn[6], line 10\u001b[0m\n\u001b[1;32m      7\u001b[0m button_element \u001b[38;5;241m=\u001b[39m driver\u001b[38;5;241m.\u001b[39mfind_element(By\u001b[38;5;241m.\u001b[39mCSS_SELECTOR, \u001b[38;5;124m\"\u001b[39m\u001b[38;5;124m[data-text=\u001b[39m\u001b[38;5;124m'\u001b[39m\u001b[38;5;124mПоказать еще\u001b[39m\u001b[38;5;124m'\u001b[39m\u001b[38;5;124m]\u001b[39m\u001b[38;5;124m\"\u001b[39m)\n\u001b[1;32m      9\u001b[0m \u001b[38;5;66;03m# Клик кнопки\u001b[39;00m\n\u001b[0;32m---> 10\u001b[0m \u001b[43mbutton_element\u001b[49m\u001b[38;5;241;43m.\u001b[39;49m\u001b[43mclick\u001b[49m\u001b[43m(\u001b[49m\u001b[43m)\u001b[49m\n\u001b[1;32m     12\u001b[0m \u001b[38;5;66;03m# Даем время для загрузки новых элементов\u001b[39;00m\n\u001b[1;32m     13\u001b[0m time\u001b[38;5;241m.\u001b[39msleep(\u001b[38;5;241m3\u001b[39m)\n",
      "File \u001b[0;32m/Library/Frameworks/Python.framework/Versions/3.11/lib/python3.11/site-packages/selenium/webdriver/remote/webelement.py:94\u001b[0m, in \u001b[0;36mWebElement.click\u001b[0;34m(self)\u001b[0m\n\u001b[1;32m     92\u001b[0m \u001b[38;5;28;01mdef\u001b[39;00m \u001b[38;5;21mclick\u001b[39m(\u001b[38;5;28mself\u001b[39m) \u001b[38;5;241m-\u001b[39m\u001b[38;5;241m>\u001b[39m \u001b[38;5;28;01mNone\u001b[39;00m:\n\u001b[1;32m     93\u001b[0m \u001b[38;5;250m    \u001b[39m\u001b[38;5;124;03m\"\"\"Clicks the element.\"\"\"\u001b[39;00m\n\u001b[0;32m---> 94\u001b[0m     \u001b[38;5;28;43mself\u001b[39;49m\u001b[38;5;241;43m.\u001b[39;49m\u001b[43m_execute\u001b[49m\u001b[43m(\u001b[49m\u001b[43mCommand\u001b[49m\u001b[38;5;241;43m.\u001b[39;49m\u001b[43mCLICK_ELEMENT\u001b[49m\u001b[43m)\u001b[49m\n",
      "File \u001b[0;32m/Library/Frameworks/Python.framework/Versions/3.11/lib/python3.11/site-packages/selenium/webdriver/remote/webelement.py:395\u001b[0m, in \u001b[0;36mWebElement._execute\u001b[0;34m(self, command, params)\u001b[0m\n\u001b[1;32m    393\u001b[0m     params \u001b[38;5;241m=\u001b[39m {}\n\u001b[1;32m    394\u001b[0m params[\u001b[38;5;124m\"\u001b[39m\u001b[38;5;124mid\u001b[39m\u001b[38;5;124m\"\u001b[39m] \u001b[38;5;241m=\u001b[39m \u001b[38;5;28mself\u001b[39m\u001b[38;5;241m.\u001b[39m_id\n\u001b[0;32m--> 395\u001b[0m \u001b[38;5;28;01mreturn\u001b[39;00m \u001b[38;5;28;43mself\u001b[39;49m\u001b[38;5;241;43m.\u001b[39;49m\u001b[43m_parent\u001b[49m\u001b[38;5;241;43m.\u001b[39;49m\u001b[43mexecute\u001b[49m\u001b[43m(\u001b[49m\u001b[43mcommand\u001b[49m\u001b[43m,\u001b[49m\u001b[43m \u001b[49m\u001b[43mparams\u001b[49m\u001b[43m)\u001b[49m\n",
      "File \u001b[0;32m/Library/Frameworks/Python.framework/Versions/3.11/lib/python3.11/site-packages/selenium/webdriver/remote/webdriver.py:354\u001b[0m, in \u001b[0;36mWebDriver.execute\u001b[0;34m(self, driver_command, params)\u001b[0m\n\u001b[1;32m    352\u001b[0m response \u001b[38;5;241m=\u001b[39m \u001b[38;5;28mself\u001b[39m\u001b[38;5;241m.\u001b[39mcommand_executor\u001b[38;5;241m.\u001b[39mexecute(driver_command, params)\n\u001b[1;32m    353\u001b[0m \u001b[38;5;28;01mif\u001b[39;00m response:\n\u001b[0;32m--> 354\u001b[0m     \u001b[38;5;28;43mself\u001b[39;49m\u001b[38;5;241;43m.\u001b[39;49m\u001b[43merror_handler\u001b[49m\u001b[38;5;241;43m.\u001b[39;49m\u001b[43mcheck_response\u001b[49m\u001b[43m(\u001b[49m\u001b[43mresponse\u001b[49m\u001b[43m)\u001b[49m\n\u001b[1;32m    355\u001b[0m     response[\u001b[38;5;124m\"\u001b[39m\u001b[38;5;124mvalue\u001b[39m\u001b[38;5;124m\"\u001b[39m] \u001b[38;5;241m=\u001b[39m \u001b[38;5;28mself\u001b[39m\u001b[38;5;241m.\u001b[39m_unwrap_value(response\u001b[38;5;241m.\u001b[39mget(\u001b[38;5;124m\"\u001b[39m\u001b[38;5;124mvalue\u001b[39m\u001b[38;5;124m\"\u001b[39m, \u001b[38;5;28;01mNone\u001b[39;00m))\n\u001b[1;32m    356\u001b[0m     \u001b[38;5;28;01mreturn\u001b[39;00m response\n",
      "File \u001b[0;32m/Library/Frameworks/Python.framework/Versions/3.11/lib/python3.11/site-packages/selenium/webdriver/remote/errorhandler.py:229\u001b[0m, in \u001b[0;36mErrorHandler.check_response\u001b[0;34m(self, response)\u001b[0m\n\u001b[1;32m    227\u001b[0m         alert_text \u001b[38;5;241m=\u001b[39m value[\u001b[38;5;124m\"\u001b[39m\u001b[38;5;124malert\u001b[39m\u001b[38;5;124m\"\u001b[39m]\u001b[38;5;241m.\u001b[39mget(\u001b[38;5;124m\"\u001b[39m\u001b[38;5;124mtext\u001b[39m\u001b[38;5;124m\"\u001b[39m)\n\u001b[1;32m    228\u001b[0m     \u001b[38;5;28;01mraise\u001b[39;00m exception_class(message, screen, stacktrace, alert_text)  \u001b[38;5;66;03m# type: ignore[call-arg]  # mypy is not smart enough here\u001b[39;00m\n\u001b[0;32m--> 229\u001b[0m \u001b[38;5;28;01mraise\u001b[39;00m exception_class(message, screen, stacktrace)\n",
      "\u001b[0;31mElementNotInteractableException\u001b[0m: Message: element not interactable\n  (Session info: chrome=128.0.6613.139)\nStacktrace:\n0   chromedriver                        0x0000000100a35208 cxxbridge1$str$ptr + 1927396\n1   chromedriver                        0x0000000100a2d66c cxxbridge1$str$ptr + 1895752\n2   chromedriver                        0x0000000100628670 cxxbridge1$string$len + 89156\n3   chromedriver                        0x000000010066dbf8 cxxbridge1$string$len + 373196\n4   chromedriver                        0x00000001006635d4 cxxbridge1$string$len + 330664\n5   chromedriver                        0x0000000100663064 cxxbridge1$string$len + 329272\n6   chromedriver                        0x00000001006a6228 cxxbridge1$string$len + 604156\n7   chromedriver                        0x0000000100661698 cxxbridge1$string$len + 322668\n8   chromedriver                        0x0000000100662310 cxxbridge1$string$len + 325860\n9   chromedriver                        0x00000001009fbe78 cxxbridge1$str$ptr + 1693012\n10  chromedriver                        0x0000000100a0077c cxxbridge1$str$ptr + 1711704\n11  chromedriver                        0x00000001009e13ec cxxbridge1$str$ptr + 1583816\n12  chromedriver                        0x0000000100a0104c cxxbridge1$str$ptr + 1713960\n13  chromedriver                        0x00000001009d1fc8 cxxbridge1$str$ptr + 1521316\n14  chromedriver                        0x0000000100a1eb68 cxxbridge1$str$ptr + 1835588\n15  chromedriver                        0x0000000100a1ece4 cxxbridge1$str$ptr + 1835968\n16  chromedriver                        0x0000000100a2d308 cxxbridge1$str$ptr + 1894884\n17  libsystem_pthread.dylib             0x0000000187a0f2e4 _pthread_start + 136\n18  libsystem_pthread.dylib             0x0000000187a0a0fc thread_start + 8\n"
     ]
    }
   ],
   "source": [
    "while True:\n",
    "    page_source = driver.page_source\n",
    "    soup = BeautifulSoup(page_source, 'html.parser')\n",
    "\n",
    "    try:\n",
    "        \n",
    "        button_element = driver.find_element(By.CSS_SELECTOR, \"[data-text='Показать еще']\")\n",
    "        \n",
    "        # Клик кнопки\n",
    "        button_element.click()\n",
    "\n",
    "        # Даем время для загрузки новых элементов\n",
    "        time.sleep(3)\n",
    "    \n",
    "    except NoSuchElementException:\n",
    "        # Если кнопка больше не найдена\n",
    "        print(\"Кнопка 'Показать еще' больше не доступна.\")\n",
    "        break"
   ]
  },
  {
   "cell_type": "code",
   "execution_count": 7,
   "metadata": {},
   "outputs": [],
   "source": [
    "def add_infromation(name_column: str, dv: str, class_html: str):\n",
    "    soupchik = soup.find_all(dv, class_ = class_html)\n",
    "    print(soupchik)\n",
    "    for line in soupchik: # Добавляем информацию в массив данных\n",
    "        href = line.get('href')\n",
    "        data[name_column].append(href)\n",
    "    print(data[name_column])"
   ]
  },
  {
   "cell_type": "code",
   "execution_count": 11,
   "metadata": {},
   "outputs": [
    {
     "name": "stdout",
     "output_type": "stream",
     "text": [
      "[]\n",
      "[]\n"
     ]
    }
   ],
   "source": [
    "\n",
    "add_infromation(name_column = data_site[0][0], dv = data_site[0][1], class_html = data_site[0][2])"
   ]
  },
  {
   "cell_type": "code",
   "execution_count": 12,
   "metadata": {},
   "outputs": [
    {
     "name": "stdout",
     "output_type": "stream",
     "text": [
      "[]\n"
     ]
    }
   ],
   "source": [
    "print(data['strategy_idea'])"
   ]
  },
  {
   "cell_type": "code",
   "execution_count": 10,
   "metadata": {},
   "outputs": [],
   "source": [
    "driver.quit()"
   ]
  }
 ],
 "metadata": {
  "kernelspec": {
   "display_name": "Python 3",
   "language": "python",
   "name": "python3"
  },
  "language_info": {
   "codemirror_mode": {
    "name": "ipython",
    "version": 3
   },
   "file_extension": ".py",
   "mimetype": "text/x-python",
   "name": "python",
   "nbconvert_exporter": "python",
   "pygments_lexer": "ipython3",
   "version": "3.11.8"
  }
 },
 "nbformat": 4,
 "nbformat_minor": 2
}
