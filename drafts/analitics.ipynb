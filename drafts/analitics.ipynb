{
 "cells": [
  {
   "cell_type": "code",
   "execution_count": 143,
   "metadata": {},
   "outputs": [],
   "source": [
    "import requests\n",
    "from bs4 import BeautifulSoup\n",
    "from selenium import webdriver\n",
    "from selenium.webdriver.common.by import By\n",
    "import time\n",
    "import json\n",
    "import pandas as pd\n",
    "from selenium.webdriver.chrome.options import Options\n",
    "import traceback\n",
    "from selenium.webdriver.support.ui import WebDriverWait\n",
    "from selenium.webdriver.support import expected_conditions as EC\n",
    "\n",
    "\n",
    "\n",
    "\n",
    "url=\"https://bcs-express.ru/category/torgovye-rekomendacii\""
   ]
  },
  {
   "cell_type": "code",
   "execution_count": 43,
   "metadata": {},
   "outputs": [
    {
     "ename": "AttributeError",
     "evalue": "ResultSet object has no attribute 'find'. You're probably treating a list of elements like a single element. Did you call find_all() when you meant to call find()?",
     "output_type": "error",
     "traceback": [
      "\u001b[0;31m---------------------------------------------------------------------------\u001b[0m",
      "\u001b[0;31mAttributeError\u001b[0m                            Traceback (most recent call last)",
      "Cell \u001b[0;32mIn[43], line 8\u001b[0m\n\u001b[1;32m      4\u001b[0m response\u001b[38;5;241m=\u001b[39mrequests\u001b[38;5;241m.\u001b[39mget(\u001b[38;5;124m\"\u001b[39m\u001b[38;5;124mhttps://bcs-express.ru/novosti-i-analitika/sber-i-vtb-protiv-mosbirzhi-ozhidaemaia-dokhodnost-5-k-seredine-iiunia\u001b[39m\u001b[38;5;124m\"\u001b[39m, headers\u001b[38;5;241m=\u001b[39mheaders)\n\u001b[1;32m      6\u001b[0m soup\u001b[38;5;241m=\u001b[39mBeautifulSoup(response\u001b[38;5;241m.\u001b[39mtext,\u001b[38;5;124m\"\u001b[39m\u001b[38;5;124mhtml.parser\u001b[39m\u001b[38;5;124m\"\u001b[39m)\n\u001b[0;32m----> 8\u001b[0m \u001b[38;5;28mprint\u001b[39m(\u001b[43msoup\u001b[49m\u001b[38;5;241;43m.\u001b[39;49m\u001b[43mfind_all\u001b[49m\u001b[43m(\u001b[49m\u001b[38;5;124;43m\"\u001b[39;49m\u001b[38;5;124;43mdiv\u001b[39;49m\u001b[38;5;124;43m\"\u001b[39;49m\u001b[43m,\u001b[49m\u001b[43m \u001b[49m\u001b[43mclass_\u001b[49m\u001b[38;5;241;43m=\u001b[39;49m\u001b[43m[\u001b[49m\u001b[38;5;124;43m\"\u001b[39;49m\u001b[38;5;124;43mTjB6 KSLV Ncpb E6j8\u001b[39;49m\u001b[38;5;124;43m\"\u001b[39;49m\u001b[43m,\u001b[49m\u001b[38;5;124;43m\"\u001b[39;49m\u001b[38;5;124;43mTjB6 KSLV Ncpb E6j8 IhFN\u001b[39;49m\u001b[38;5;124;43m\"\u001b[39;49m\u001b[43m]\u001b[49m\u001b[43m)\u001b[49m\u001b[38;5;241;43m.\u001b[39;49m\u001b[43mfind\u001b[49m(\u001b[38;5;124m\"\u001b[39m\u001b[38;5;124ma\u001b[39m\u001b[38;5;124m\"\u001b[39m, class_\u001b[38;5;241m=\u001b[39m\u001b[38;5;124m\"\u001b[39m\u001b[38;5;124miKzE\u001b[39m\u001b[38;5;124m\"\u001b[39m)\u001b[38;5;241m.\u001b[39mtext) \u001b[38;5;66;03m#title\u001b[39;00m\n\u001b[1;32m      9\u001b[0m \u001b[38;5;28mprint\u001b[39m(soup\u001b[38;5;241m.\u001b[39mfind_all(\u001b[38;5;124m\"\u001b[39m\u001b[38;5;124mdiv\u001b[39m\u001b[38;5;124m\"\u001b[39m, class_\u001b[38;5;241m=\u001b[39m[\u001b[38;5;124m\"\u001b[39m\u001b[38;5;124mTjB6 KSLV Ncpb E6j8\u001b[39m\u001b[38;5;124m\"\u001b[39m,\u001b[38;5;124m\"\u001b[39m\u001b[38;5;124mTjB6 KSLV Ncpb E6j8 IhFN\u001b[39m\u001b[38;5;124m\"\u001b[39m])\u001b[38;5;241m.\u001b[39mfind(\u001b[38;5;124m\"\u001b[39m\u001b[38;5;124ma\u001b[39m\u001b[38;5;124m\"\u001b[39m, class_\u001b[38;5;241m=\u001b[39m\u001b[38;5;124m\"\u001b[39m\u001b[38;5;124miKzE\u001b[39m\u001b[38;5;124m\"\u001b[39m)\u001b[38;5;241m.\u001b[39mattrs[\u001b[38;5;124m'\u001b[39m\u001b[38;5;124mhref\u001b[39m\u001b[38;5;124m'\u001b[39m]) \u001b[38;5;66;03m#link\u001b[39;00m\n",
      "File \u001b[0;32m~/Desktop/LLM/market_sentiment/lib/python3.12/site-packages/bs4/element.py:2433\u001b[0m, in \u001b[0;36mResultSet.__getattr__\u001b[0;34m(self, key)\u001b[0m\n\u001b[1;32m   2431\u001b[0m \u001b[38;5;28;01mdef\u001b[39;00m \u001b[38;5;21m__getattr__\u001b[39m(\u001b[38;5;28mself\u001b[39m, key):\n\u001b[1;32m   2432\u001b[0m \u001b[38;5;250m    \u001b[39m\u001b[38;5;124;03m\"\"\"Raise a helpful exception to explain a common code fix.\"\"\"\u001b[39;00m\n\u001b[0;32m-> 2433\u001b[0m     \u001b[38;5;28;01mraise\u001b[39;00m \u001b[38;5;167;01mAttributeError\u001b[39;00m(\n\u001b[1;32m   2434\u001b[0m         \u001b[38;5;124m\"\u001b[39m\u001b[38;5;124mResultSet object has no attribute \u001b[39m\u001b[38;5;124m'\u001b[39m\u001b[38;5;132;01m%s\u001b[39;00m\u001b[38;5;124m'\u001b[39m\u001b[38;5;124m. You\u001b[39m\u001b[38;5;124m'\u001b[39m\u001b[38;5;124mre probably treating a list of elements like a single element. Did you call find_all() when you meant to call find()?\u001b[39m\u001b[38;5;124m\"\u001b[39m \u001b[38;5;241m%\u001b[39m key\n\u001b[1;32m   2435\u001b[0m     )\n",
      "\u001b[0;31mAttributeError\u001b[0m: ResultSet object has no attribute 'find'. You're probably treating a list of elements like a single element. Did you call find_all() when you meant to call find()?"
     ]
    }
   ],
   "source": [
    "headers = {\n",
    "    \"User-Agent\": \"Mozilla/5.0 (Windows NT 10.0; Win64; x64) AppleWebKit/537.36 (KHTML, like Gecko) Chrome/113.0.0.0 Safari/537.36\"\n",
    "}\n",
    "response=requests.get(url, headers=headers)\n",
    "\n",
    "soup=BeautifulSoup(response.text,\"html.parser\")\n",
    "\n",
    "print(soup.find_all(\"div\", class_=[\"TjB6 KSLV Ncpb E6j8\",\"TjB6 KSLV Ncpb E6j8 IhFN\"])[0].find(\"a\", class_=\"iKzE\").text) #title\n",
    "print(soup.find_all(\"div\", class_=[\"TjB6 KSLV Ncpb E6j8\",\"TjB6 KSLV Ncpb E6j8 IhFN\"])[0].find(\"a\", class_=\"iKzE\").attrs['href']) #link\n"
   ]
  },
  {
   "cell_type": "code",
   "execution_count": 206,
   "metadata": {},
   "outputs": [
    {
     "name": "stdout",
     "output_type": "stream",
     "text": [
      "36\n",
      "42\n",
      "48\n",
      "54\n",
      "60\n",
      "66\n",
      "72\n",
      "78\n",
      "84\n",
      "90\n",
      "96\n",
      "102\n",
      "108\n",
      "114\n",
      "120\n",
      "ошибка с тайм Message: \n",
      "\n",
      "126\n",
      "132\n",
      "138\n",
      "144\n",
      "150\n",
      "156\n",
      "162\n",
      "168\n",
      "174\n",
      "180\n",
      "186\n",
      "192\n",
      "198\n",
      "204\n"
     ]
    },
    {
     "data": {
      "text/plain": [
       "<function selenium.webdriver.support.expected_conditions.presence_of_element_located(locator: Tuple[str, str]) -> Callable[[Union[selenium.webdriver.remote.webdriver.WebDriver, selenium.webdriver.remote.webelement.WebElement]], selenium.webdriver.remote.webelement.WebElement]>"
      ]
     },
     "execution_count": 206,
     "metadata": {},
     "output_type": "execute_result"
    }
   ],
   "source": [
    "driver = webdriver.Safari()\n",
    "\n",
    "driver.get(url)\n",
    "\n",
    "button = driver.find_element(By.CLASS_NAME,\"nlJ0\")\n",
    "button.click()\n",
    "time.sleep(3)\n",
    "columns=['title', 'description', 'publishedAt']\n",
    "df=pd.DataFrame(columns=columns)\n",
    "k=-1\n",
    "\n",
    "try:\n",
    "    while True:\n",
    "        # Прокручиваем вниз\n",
    "        driver.execute_script(\"window.scrollTo(0, document.body.scrollHeight);\")\n",
    "        driver.execute_script(\"window.scrollBy(0, -400);\")\n",
    "\n",
    "        time.sleep(4)\n",
    "        # Ждем загрузки новых данных\n",
    "        soup = BeautifulSoup(driver.page_source,\"html.parser\")\n",
    "        page = soup.find_all(\"div\", class_=[\"TjB6 KSLV Ncpb E6j8\",\"TjB6 KSLV Ncpb E6j8 IhFN\"])\n",
    "        print(len(page))\n",
    "        for i in range(k+1,len(page)):\n",
    "            title=page[i].find(\"a\", class_=\"iKzE\").text\n",
    "            link=page[i].find(\"a\", class_=\"iKzE\").attrs['href']\n",
    "            main_window=driver.current_window_handle\n",
    "            driver.execute_script(f\"window.open('{link}', '_blank');\")\n",
    "            time.sleep(1)\n",
    "            # Переключение на новую вкладку\n",
    "            # Получаем все открытые окна\n",
    "            windows = driver.window_handles\n",
    "            # Переключаемся на новое окно\n",
    "            for window in windows:\n",
    "                if window != main_window:\n",
    "                    driver.switch_to.window(window)\n",
    "                    break\n",
    "            try:\n",
    "                WebDriverWait(driver,30).until(lambda d: d.execute_script('return document.readyState') == 'complete')\n",
    "            except Exception as e:\n",
    "                print(\"не удалось загрузить страницу; {link}\")\n",
    "                break\n",
    "            try:\n",
    "                WebDriverWait(driver,10).until(EC.visibility_of_element_located((By.TAG_NAME,'time')))\n",
    "            except Exception as e:\n",
    "                print(f\"ошибка с тайм {e}\")\n",
    "            description=' '.join(list(map(lambda element: element.text,driver.find_element(By.TAG_NAME, 'body').find_elements(By.TAG_NAME,\"p\")[:-8])))\n",
    "            publish_date=driver.find_element(By.TAG_NAME, 'time').text\n",
    "            df.loc[len(df)]=[title,description,publish_date]\n",
    "            for window in windows:\n",
    "                if window != main_window:\n",
    "                    driver.switch_to.window(window)\n",
    "                    break\n",
    "            driver.close()\n",
    "            driver.switch_to.window(main_window)\n",
    "            k=i\n",
    "    \n",
    "        if len(df)>=200:\n",
    "              break\n",
    "            \n",
    "finally:\n",
    "      driver.quit()\n"
   ]
  },
  {
   "cell_type": "code",
   "execution_count": 114,
   "metadata": {},
   "outputs": [
    {
     "name": "stdout",
     "output_type": "stream",
     "text": [
      "13 мая в 15:37\n"
     ]
    }
   ],
   "source": [
    "try:\n",
    "    driver=webdriver.Safari()\n",
    "    driver.get(\"https://bcs-express.ru/novosti-i-analitika/ideia-v-aktsiiakh-vtb-potentsial-naia-dokhodnost-10-k-kontsu-iiunia\")\n",
    "    description=driver.find_element(By.TAG_NAME, 'time').text\n",
    "    print(description)\n",
    "finally:\n",
    "    driver.quit()"
   ]
  },
  {
   "cell_type": "code",
   "execution_count": null,
   "metadata": {},
   "outputs": [],
   "source": []
  }
 ],
 "metadata": {
  "kernelspec": {
   "display_name": "Python 3",
   "language": "python",
   "name": "python3"
  },
  "language_info": {
   "codemirror_mode": {
    "name": "ipython",
    "version": 3
   },
   "file_extension": ".py",
   "mimetype": "text/x-python",
   "name": "python",
   "nbconvert_exporter": "python",
   "pygments_lexer": "ipython3",
   "version": "3.12.4"
  }
 },
 "nbformat": 4,
 "nbformat_minor": 2
}
