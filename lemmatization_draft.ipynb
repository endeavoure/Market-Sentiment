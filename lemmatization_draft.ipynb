{
 "cells": [
  {
   "cell_type": "code",
   "execution_count": 45,
   "metadata": {},
   "outputs": [],
   "source": [
    "import requests\n",
    "import pandas as pd\n",
    "import time\n",
    "import re\n",
    "from bs4 import BeautifulSoup"
   ]
  },
  {
   "cell_type": "code",
   "execution_count": 56,
   "metadata": {},
   "outputs": [],
   "source": [
    "import nltk\n",
    "from nltk.tokenize import word_tokenize\n",
    "from nltk.corpus import stopwords\n",
    "from nltk.stem import WordNetLemmatizer"
   ]
  },
  {
   "cell_type": "code",
   "execution_count": 22,
   "metadata": {},
   "outputs": [],
   "source": [
    "df = pd.read_json('news_data_new.json', lines=True)"
   ]
  },
  {
   "cell_type": "code",
   "execution_count": 26,
   "metadata": {},
   "outputs": [
    {
     "name": "stdout",
     "output_type": "stream",
     "text": [
      "<class 'pandas.core.frame.DataFrame'>\n",
      "RangeIndex: 11490 entries, 0 to 11489\n",
      "Data columns (total 3 columns):\n",
      " #   Column       Non-Null Count  Dtype \n",
      "---  ------       --------------  ----- \n",
      " 0   title        11490 non-null  object\n",
      " 1   description  11490 non-null  object\n",
      " 2   publishedAt  11490 non-null  object\n",
      "dtypes: object(3)\n",
      "memory usage: 269.4+ KB\n"
     ]
    }
   ],
   "source": [
    "df.info()"
   ]
  },
  {
   "cell_type": "code",
   "execution_count": 38,
   "metadata": {},
   "outputs": [],
   "source": [
    "def clean_text(text: str) -> str:\n",
    "    text = text.lower()\n",
    "    text = re.sub(r'<.*?>', '', text)\n",
    "    text = re.sub(r'http\\S+|www\\S+|https\\S+', '', text, flags=re.MULTILINE)\n",
    "    text = text.strip()\n",
    "    return text"
   ]
  },
  {
   "cell_type": "code",
   "execution_count": 42,
   "metadata": {},
   "outputs": [],
   "source": [
    "df['cleaned_description'] = df['description'].apply(clean_text)\n",
    "df['cleaned_title'] = df['title'].apply(clean_text)"
   ]
  },
  {
   "cell_type": "code",
   "execution_count": 44,
   "metadata": {},
   "outputs": [
    {
     "data": {
      "text/html": [
       "<div>\n",
       "<style scoped>\n",
       "    .dataframe tbody tr th:only-of-type {\n",
       "        vertical-align: middle;\n",
       "    }\n",
       "\n",
       "    .dataframe tbody tr th {\n",
       "        vertical-align: top;\n",
       "    }\n",
       "\n",
       "    .dataframe thead th {\n",
       "        text-align: right;\n",
       "    }\n",
       "</style>\n",
       "<table border=\"1\" class=\"dataframe\">\n",
       "  <thead>\n",
       "    <tr style=\"text-align: right;\">\n",
       "      <th></th>\n",
       "      <th>title</th>\n",
       "      <th>description</th>\n",
       "      <th>publishedAt</th>\n",
       "      <th>cleaned_description</th>\n",
       "      <th>cleaned_title</th>\n",
       "    </tr>\n",
       "  </thead>\n",
       "  <tbody>\n",
       "    <tr>\n",
       "      <th>0</th>\n",
       "      <td>Кредит с большого бодуна</td>\n",
       "      <td>К концу длинных новогодних праздников многие о...</td>\n",
       "      <td>9/1/2012</td>\n",
       "      <td>к концу длинных новогодних праздников многие о...</td>\n",
       "      <td>кредит с большого бодуна</td>\n",
       "    </tr>\n",
       "    <tr>\n",
       "      <th>1</th>\n",
       "      <td>Право на пиратство могут оставить</td>\n",
       "      <td>История с «налогом на болванки» не утихает. На...</td>\n",
       "      <td>10/1/2012</td>\n",
       "      <td>история с «налогом на болванки» не утихает. на...</td>\n",
       "      <td>право на пиратство могут оставить</td>\n",
       "    </tr>\n",
       "    <tr>\n",
       "      <th>2</th>\n",
       "      <td>Кровь износа</td>\n",
       "      <td>Трагедия, случившаяся на новогодних каникулах ...</td>\n",
       "      <td>10/1/2012</td>\n",
       "      <td>трагедия, случившаяся на новогодних каникулах ...</td>\n",
       "      <td>кровь износа</td>\n",
       "    </tr>\n",
       "    <tr>\n",
       "      <th>3</th>\n",
       "      <td>Владимир Путин: «Взяли и вдули!»</td>\n",
       "      <td>Нигде еще так не игнорировали требование прави...</td>\n",
       "      <td>10/1/2012</td>\n",
       "      <td>нигде еще так не игнорировали требование прави...</td>\n",
       "      <td>владимир путин: «взяли и вдули!»</td>\n",
       "    </tr>\n",
       "    <tr>\n",
       "      <th>4</th>\n",
       "      <td>Италия поможет вывести Европу из кризиса</td>\n",
       "      <td>В Берлине 11 января состоялась встреча канцлер...</td>\n",
       "      <td>11/1/2012</td>\n",
       "      <td>в берлине 11 января состоялась встреча канцлер...</td>\n",
       "      <td>италия поможет вывести европу из кризиса</td>\n",
       "    </tr>\n",
       "    <tr>\n",
       "      <th>...</th>\n",
       "      <td>...</td>\n",
       "      <td>...</td>\n",
       "      <td>...</td>\n",
       "      <td>...</td>\n",
       "      <td>...</td>\n",
       "    </tr>\n",
       "    <tr>\n",
       "      <th>11485</th>\n",
       "      <td>Долги по квартире на шее: в России заметно выр...</td>\n",
       "      <td>За первые пять месяцев 2024 года объем жилищны...</td>\n",
       "      <td>2/9/2024</td>\n",
       "      <td>за первые пять месяцев 2024 года объем жилищны...</td>\n",
       "      <td>долги по квартире на шее: в россии заметно выр...</td>\n",
       "    </tr>\n",
       "    <tr>\n",
       "      <th>11486</th>\n",
       "      <td>Эксперты указали на риски от открытия филиалов...</td>\n",
       "      <td>В России с 1 сентября власти разрешили открыва...</td>\n",
       "      <td>2/9/2024</td>\n",
       "      <td>в россии с 1 сентября власти разрешили открыва...</td>\n",
       "      <td>эксперты указали на риски от открытия филиалов...</td>\n",
       "    </tr>\n",
       "    <tr>\n",
       "      <th>11487</th>\n",
       "      <td>Эксперты узнали, где возвели больше всего ново...</td>\n",
       "      <td>В минувшем августе в России заметно упали темп...</td>\n",
       "      <td>3/9/2024</td>\n",
       "      <td>в минувшем августе в россии заметно упали темп...</td>\n",
       "      <td>эксперты узнали, где возвели больше всего ново...</td>\n",
       "    </tr>\n",
       "    <tr>\n",
       "      <th>11488</th>\n",
       "      <td>Названа сумма набранных россиянами микрокредит...</td>\n",
       "      <td>500 миллиардов рублей — на такую сумму россиян...</td>\n",
       "      <td>3/9/2024</td>\n",
       "      <td>500 миллиардов рублей — на такую сумму россиян...</td>\n",
       "      <td>названа сумма набранных россиянами микрокредит...</td>\n",
       "    </tr>\n",
       "    <tr>\n",
       "      <th>11489</th>\n",
       "      <td>Минстрой допустил корректировку функционала на...</td>\n",
       "      <td>Минстрой обеспокоен возможным снижением ввода ...</td>\n",
       "      <td>3/9/2024</td>\n",
       "      <td>минстрой обеспокоен возможным снижением ввода ...</td>\n",
       "      <td>минстрой допустил корректировку функционала на...</td>\n",
       "    </tr>\n",
       "  </tbody>\n",
       "</table>\n",
       "<p>11490 rows × 5 columns</p>\n",
       "</div>"
      ],
      "text/plain": [
       "                                                   title  \\\n",
       "0                               Кредит с большого бодуна   \n",
       "1                      Право на пиратство могут оставить   \n",
       "2                                           Кровь износа   \n",
       "3                       Владимир Путин: «Взяли и вдули!»   \n",
       "4               Италия поможет вывести Европу из кризиса   \n",
       "...                                                  ...   \n",
       "11485  Долги по квартире на шее: в России заметно выр...   \n",
       "11486  Эксперты указали на риски от открытия филиалов...   \n",
       "11487  Эксперты узнали, где возвели больше всего ново...   \n",
       "11488  Названа сумма набранных россиянами микрокредит...   \n",
       "11489  Минстрой допустил корректировку функционала на...   \n",
       "\n",
       "                                             description publishedAt  \\\n",
       "0      К концу длинных новогодних праздников многие о...    9/1/2012   \n",
       "1      История с «налогом на болванки» не утихает. На...   10/1/2012   \n",
       "2      Трагедия, случившаяся на новогодних каникулах ...   10/1/2012   \n",
       "3      Нигде еще так не игнорировали требование прави...   10/1/2012   \n",
       "4      В Берлине 11 января состоялась встреча канцлер...   11/1/2012   \n",
       "...                                                  ...         ...   \n",
       "11485  За первые пять месяцев 2024 года объем жилищны...    2/9/2024   \n",
       "11486  В России с 1 сентября власти разрешили открыва...    2/9/2024   \n",
       "11487  В минувшем августе в России заметно упали темп...    3/9/2024   \n",
       "11488  500 миллиардов рублей — на такую сумму россиян...    3/9/2024   \n",
       "11489  Минстрой обеспокоен возможным снижением ввода ...    3/9/2024   \n",
       "\n",
       "                                     cleaned_description  \\\n",
       "0      к концу длинных новогодних праздников многие о...   \n",
       "1      история с «налогом на болванки» не утихает. на...   \n",
       "2      трагедия, случившаяся на новогодних каникулах ...   \n",
       "3      нигде еще так не игнорировали требование прави...   \n",
       "4      в берлине 11 января состоялась встреча канцлер...   \n",
       "...                                                  ...   \n",
       "11485  за первые пять месяцев 2024 года объем жилищны...   \n",
       "11486  в россии с 1 сентября власти разрешили открыва...   \n",
       "11487  в минувшем августе в россии заметно упали темп...   \n",
       "11488  500 миллиардов рублей — на такую сумму россиян...   \n",
       "11489  минстрой обеспокоен возможным снижением ввода ...   \n",
       "\n",
       "                                           cleaned_title  \n",
       "0                               кредит с большого бодуна  \n",
       "1                      право на пиратство могут оставить  \n",
       "2                                           кровь износа  \n",
       "3                       владимир путин: «взяли и вдули!»  \n",
       "4               италия поможет вывести европу из кризиса  \n",
       "...                                                  ...  \n",
       "11485  долги по квартире на шее: в россии заметно выр...  \n",
       "11486  эксперты указали на риски от открытия филиалов...  \n",
       "11487  эксперты узнали, где возвели больше всего ново...  \n",
       "11488  названа сумма набранных россиянами микрокредит...  \n",
       "11489  минстрой допустил корректировку функционала на...  \n",
       "\n",
       "[11490 rows x 5 columns]"
      ]
     },
     "execution_count": 44,
     "metadata": {},
     "output_type": "execute_result"
    }
   ],
   "source": [
    "df"
   ]
  },
  {
   "cell_type": "code",
   "execution_count": 50,
   "metadata": {},
   "outputs": [
    {
     "name": "stderr",
     "output_type": "stream",
     "text": [
      "[nltk_data] Downloading package punkt to\n",
      "[nltk_data]     /Users/alexanderknyshov/nltk_data...\n",
      "[nltk_data]   Package punkt is already up-to-date!\n",
      "[nltk_data] Downloading package stopwords to\n",
      "[nltk_data]     /Users/alexanderknyshov/nltk_data...\n",
      "[nltk_data]   Package stopwords is already up-to-date!\n",
      "[nltk_data] Downloading package punkt_tab to\n",
      "[nltk_data]     /Users/alexanderknyshov/nltk_data...\n",
      "[nltk_data]   Unzipping tokenizers/punkt_tab.zip.\n"
     ]
    }
   ],
   "source": [
    "nltk.download('punkt')\n",
    "nltk.download('stopwords')\n",
    "nltk.download('punkt_tab')\n",
    "stop_words = set(stopwords.words('russian'))"
   ]
  },
  {
   "cell_type": "code",
   "execution_count": 51,
   "metadata": {},
   "outputs": [],
   "source": [
    "def tokenize_and_remove_stopwords(text: str) -> list:\n",
    "    tokens = word_tokenize(text)\n",
    "    tokens = [word for word in tokens if word not in stop_words]\n",
    "    return tokens"
   ]
  },
  {
   "cell_type": "code",
   "execution_count": 52,
   "metadata": {},
   "outputs": [],
   "source": [
    "df['tokens_title'] = df['cleaned_title'].apply(tokenize_and_remove_stopwords)\n",
    "df['tokens_description'] = df['cleaned_description'].apply(tokenize_and_remove_stopwords)"
   ]
  },
  {
   "cell_type": "code",
   "execution_count": 57,
   "metadata": {},
   "outputs": [
    {
     "name": "stderr",
     "output_type": "stream",
     "text": [
      "[nltk_data] Downloading package wordnet to\n",
      "[nltk_data]     /Users/alexanderknyshov/nltk_data...\n",
      "[nltk_data]   Package wordnet is already up-to-date!\n",
      "[nltk_data] Downloading package omw-1.4 to\n",
      "[nltk_data]     /Users/alexanderknyshov/nltk_data...\n",
      "[nltk_data]   Package omw-1.4 is already up-to-date!\n"
     ]
    }
   ],
   "source": [
    "nltk.download('wordnet')\n",
    "nltk.download('omw-1.4')\n",
    "lemmatizer = WordNetLemmatizer()\n",
    "\n",
    "def lemmatize_tokens(tokens):\n",
    "    return [lemmatizer.lemmatize(token) for token in tokens]\n",
    "\n",
    "df['lemmatized_title'] = df['tokens_title'].apply(lemmatize_tokens)\n",
    "df['lemmatized_description'] = df['tokens_description'].apply(lemmatize_tokens)"
   ]
  },
  {
   "cell_type": "code",
   "execution_count": 62,
   "metadata": {},
   "outputs": [
    {
     "data": {
      "text/plain": [
       "['концу',\n",
       " 'длинных',\n",
       " 'новогодних',\n",
       " 'праздников',\n",
       " 'многие',\n",
       " 'оказываются',\n",
       " 'буквально',\n",
       " 'копейки',\n",
       " ':',\n",
       " 'потрачено',\n",
       " 'веселье',\n",
       " '.',\n",
       " 'зарплаты',\n",
       " 'полмесяца',\n",
       " ',',\n",
       " 'долг',\n",
       " 'никто',\n",
       " 'дает',\n",
       " ':',\n",
       " 'друзья',\n",
       " 'сами',\n",
       " 'денег',\n",
       " 'сидят',\n",
       " '.',\n",
       " 'поможет',\n",
       " 'микрокредит',\n",
       " '.',\n",
       " 'раньше',\n",
       " 'микрофинансированием',\n",
       " 'занимались',\n",
       " 'ростовщики',\n",
       " ',',\n",
       " 'выгодное',\n",
       " 'дело',\n",
       " 'взялись',\n",
       " 'банки',\n",
       " '.']"
      ]
     },
     "execution_count": 62,
     "metadata": {},
     "output_type": "execute_result"
    }
   ],
   "source": [
    "df['lemmatized_description'][0]"
   ]
  },
  {
   "cell_type": "code",
   "execution_count": 60,
   "metadata": {},
   "outputs": [],
   "source": [
    "df.to_json('financial_news_lemmatized.json', orient='records', lines=True, force_ascii=False)"
   ]
  }
 ],
 "metadata": {
  "kernelspec": {
   "display_name": "venv",
   "language": "python",
   "name": "python3"
  },
  "language_info": {
   "codemirror_mode": {
    "name": "ipython",
    "version": 3
   },
   "file_extension": ".py",
   "mimetype": "text/x-python",
   "name": "python",
   "nbconvert_exporter": "python",
   "pygments_lexer": "ipython3",
   "version": "3.11.8"
  }
 },
 "nbformat": 4,
 "nbformat_minor": 2
}
