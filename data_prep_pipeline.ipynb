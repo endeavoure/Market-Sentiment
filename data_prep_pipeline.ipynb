{
 "cells": [
  {
   "cell_type": "code",
   "execution_count": 84,
   "metadata": {},
   "outputs": [],
   "source": [
    "import numpy as np\n",
    "import pandas as pd\n",
    "import locale\n",
    "import json\n",
    "import re\n",
    "import pymorphy2\n",
    "from datetime import datetime\n",
    "from nltk.corpus import stopwords\n",
    "from nltk.tokenize import word_tokenize\n",
    "from nltk.stem import WordNetLemmatizer\n",
    "from bs4 import BeautifulSoup"
   ]
  },
  {
   "cell_type": "code",
   "execution_count": 64,
   "metadata": {},
   "outputs": [
    {
     "data": {
      "text/plain": [
       "'ru_RU.UTF-8'"
      ]
     },
     "execution_count": 64,
     "metadata": {},
     "output_type": "execute_result"
    }
   ],
   "source": [
    "# Setting up the locale\n",
    "locale.setlocale(locale.LC_TIME, 'ru_RU.UTF-8')"
   ]
  },
  {
   "cell_type": "markdown",
   "metadata": {},
   "source": [
    "**We need to get different datasets to look the same way: columns, formats, etc.**:"
   ]
  },
  {
   "cell_type": "code",
   "execution_count": 65,
   "metadata": {},
   "outputs": [],
   "source": [
    "# Dates to datetime format in news dataset\n",
    "news_data = pd.read_json('/Users/alexanderknyshov/Desktop/LLM/Data/datasets/news_data_new.json', lines=True)\n",
    "date = []\n",
    "for i in range(len(news_data['publishedAt'])):\n",
    "    date.append(pd.to_datetime(news_data['publishedAt'][i], dayfirst=True, errors='coerce'))\n",
    "for i in range(len(news_data['publishedAt'])):\n",
    "    news_data.loc[i, 'publishedAt'] = date[i]"
   ]
  },
  {
   "cell_type": "code",
   "execution_count": 66,
   "metadata": {},
   "outputs": [],
   "source": [
    "# Joint recommendations dataset\n",
    "rec1 = pd.read_json('/Users/alexanderknyshov/Desktop/LLM/Data/datasets/invest_recommendations.json')\n",
    "rec2 = pd.read_json('/Users/alexanderknyshov/Desktop/LLM/Data/datasets/recommendations.json')\n",
    "\n",
    "rec2 = rec2.rename(columns={'titles': 'title'})\n",
    "rec2 = rec2.drop(columns=['hrefs'])"
   ]
  },
  {
   "cell_type": "code",
   "execution_count": 67,
   "metadata": {},
   "outputs": [],
   "source": [
    "# Dates to datetime format in rec1 and rec2\n",
    "date = []\n",
    "for i in range(len(rec1['publishedAt'])):\n",
    "    date.append(pd.to_datetime(rec1['publishedAt'][i], format='%d %B %Y, %H:%M'))\n",
    "for i in range(len(rec1['publishedAt'])):\n",
    "    rec1.loc[i, 'publishedAt'] = date[i]\n",
    "    \n",
    "date = []\n",
    "for i in range(len(rec2['publishedAt'])):\n",
    "    date.append(pd.to_datetime(rec2['publishedAt'][i], format='%d %B %Y', errors='coerce'))\n",
    "for i in range(len(rec2['publishedAt'])):\n",
    "    rec2.loc[i, 'publishedAt'] = date[i]\n",
    "\n",
    "# Merging rec1 and rec2 to get final dataset\n",
    "recommendations = pd.concat([rec1, rec2], ignore_index=True)"
   ]
  },
  {
   "cell_type": "markdown",
   "metadata": {},
   "source": [
    "**Now we get to connect recommendations with news being \"the cause\" of it**:"
   ]
  },
  {
   "cell_type": "code",
   "execution_count": 68,
   "metadata": {},
   "outputs": [],
   "source": [
    "rec_news = []\n",
    "for i in range(len(recommendations['publishedAt'])):\n",
    "    date = recommendations['publishedAt'][i]\n",
    "    start_date = date - pd.Timedelta(days=7)\n",
    "    filtered_news = news_data[(news_data['publishedAt'] >= start_date) & (news_data['publishedAt'] < date)]['description']\n",
    "    filtered_news = str(filtered_news.sum())\n",
    "    rec_news.append(filtered_news)\n",
    "\n",
    "recommendations['reason news'] = rec_news"
   ]
  },
  {
   "cell_type": "markdown",
   "metadata": {},
   "source": [
    "**Here we filter our data**:"
   ]
  },
  {
   "cell_type": "code",
   "execution_count": 69,
   "metadata": {},
   "outputs": [],
   "source": [
    "def remove_html(text):\n",
    "    return BeautifulSoup(text, 'html.parser').get_text()\n",
    "\n",
    "recommendations['cleaned_description'] = recommendations['description'].apply(remove_html)\n",
    "recommendations['cleaned_news'] = recommendations['reason news'].apply(remove_html)"
   ]
  },
  {
   "cell_type": "code",
   "execution_count": 71,
   "metadata": {},
   "outputs": [],
   "source": [
    "def remove_urls_emails(text):\n",
    "    text = re.sub(r'http\\S+|www\\S+|https\\S+', '', text, flags=re.MULTILINE)\n",
    "    text = re.sub(r'\\S+@\\S+', '', text)\n",
    "    return re.sub(r'@\\w+', '', text)\n",
    "\n",
    "recommendations['cleaned_description'] = recommendations['cleaned_description'].apply(remove_urls_emails)\n",
    "recommendations['cleaned_news'] = recommendations['cleaned_news'].apply(remove_urls_emails)"
   ]
  },
  {
   "cell_type": "code",
   "execution_count": 74,
   "metadata": {},
   "outputs": [],
   "source": [
    "def remove_special_chars(text):\n",
    "    return re.sub(r'[^а-яА-ЯёЁa-zA-Z\\s]', '', text)\n",
    "\n",
    "recommendations['cleaned_description'] = recommendations['cleaned_description'].apply(remove_special_chars)\n",
    "recommendations['cleaned_news'] = recommendations['cleaned_news'].apply(remove_special_chars)"
   ]
  },
  {
   "cell_type": "code",
   "execution_count": 75,
   "metadata": {},
   "outputs": [],
   "source": [
    "def remove_extra_spaces(text):\n",
    "    return ' '.join(text.split())\n",
    "\n",
    "recommendations['cleaned_description'] = recommendations['cleaned_description'].apply(remove_extra_spaces)\n",
    "recommendations['cleaned_news'] = recommendations['cleaned_news'].apply(remove_extra_spaces)"
   ]
  },
  {
   "cell_type": "markdown",
   "metadata": {},
   "source": [
    "**Text normalization**:"
   ]
  },
  {
   "cell_type": "code",
   "execution_count": 78,
   "metadata": {},
   "outputs": [],
   "source": [
    "recommendations['cleaned_news'] = recommendations['cleaned_news'].str.lower()\n",
    "recommendations['cleaned_description'] = recommendations['cleaned_description'].str.lower()"
   ]
  },
  {
   "cell_type": "code",
   "execution_count": 79,
   "metadata": {},
   "outputs": [],
   "source": [
    "stop_words = set(stopwords.words('russian'))\n",
    "\n",
    "def remove_stopwords(text):\n",
    "    return ' '.join([word for word in text.split() if word not in stop_words])\n",
    "\n",
    "recommendations['cleaned_news'] = recommendations['cleaned_news'].apply(remove_stopwords)\n",
    "recommendations['cleaned_description'] = recommendations['cleaned_description'].apply(remove_stopwords)"
   ]
  },
  {
   "cell_type": "code",
   "execution_count": 85,
   "metadata": {},
   "outputs": [],
   "source": [
    "lemmatizer = WordNetLemmatizer()\n",
    "\n",
    "def lemmatize_text(text):\n",
    "    return [lemmatizer.lemmatize(word) for word in text.split()]\n",
    "\n",
    "recommendations['cleaned_news'] = recommendations['cleaned_news'].apply(lemmatize_text)\n",
    "recommendations['cleaned_description'] = recommendations['cleaned_description'].apply(lemmatize_text)"
   ]
  },
  {
   "cell_type": "markdown",
   "metadata": {},
   "source": [
    "**Write to json file**:"
   ]
  },
  {
   "cell_type": "code",
   "execution_count": 91,
   "metadata": {},
   "outputs": [],
   "source": [
    "train_set = {'news': [], 'recommendations': []}\n",
    "\n",
    "train_set['news'] = list(recommendations['cleaned_news'])\n",
    "train_set['recommendations'] = list(recommendations['cleaned_description'])"
   ]
  },
  {
   "cell_type": "code",
   "execution_count": 92,
   "metadata": {},
   "outputs": [],
   "source": [
    "with open('/Users/alexanderknyshov/Desktop/LLM/Data/datasets/train_set.json', 'w') as json_file:\n",
    "    json.dump(train_set, json_file, ensure_ascii=False)"
   ]
  }
 ],
 "metadata": {
  "kernelspec": {
   "display_name": "venv",
   "language": "python",
   "name": "python3"
  },
  "language_info": {
   "codemirror_mode": {
    "name": "ipython",
    "version": 3
   },
   "file_extension": ".py",
   "mimetype": "text/x-python",
   "name": "python",
   "nbconvert_exporter": "python",
   "pygments_lexer": "ipython3",
   "version": "3.11.8"
  }
 },
 "nbformat": 4,
 "nbformat_minor": 2
}
