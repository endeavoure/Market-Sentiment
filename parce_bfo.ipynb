{
 "cells": [
  {
   "cell_type": "code",
   "execution_count": 49,
   "metadata": {},
   "outputs": [
    {
     "name": "stdout",
     "output_type": "stream",
     "text": [
      "Успешное подключение к сайту!\n"
     ]
    }
   ],
   "source": [
    "import requests\n",
    "from bs4 import BeautifulSoup\n",
    "\n",
    "# URL главной страницы ФНС России\n",
    "url = \"https://bo.nalog.ru/\"\n",
    "\n",
    "# Заголовок User-Agent\n",
    "headers = {\n",
    "    \"User-Agent\": \"Mozilla/5.0 (Macintosh; Intel Mac OS X 13_5) AppleWebKit/537.36 (KHTML, like Gecko) Chrome/115.0.5790.171 YaBrowser/23.7.0.2335 Yowser/2.5 Safari/537.36\"\n",
    "}\n",
    "\n",
    "# Отправка GET-запроса с заголовком User-Agent\n",
    "response = requests.get(url, headers = headers)\n",
    "\n",
    "# Проверка статуса запроса\n",
    "if response.status_code == 200:\n",
    "    print(\"Успешное подключение к сайту!\")\n",
    "else:\n",
    "    print(f\"Ошибка подключения: {response.status_code}\")\n"
   ]
  },
  {
   "cell_type": "code",
   "execution_count": 54,
   "metadata": {},
   "outputs": [
    {
     "data": {
      "text/plain": [
       "[]"
      ]
     },
     "execution_count": 54,
     "metadata": {},
     "output_type": "execute_result"
    }
   ],
   "source": [
    "# Создание объекта BeautifulSoup для парсинга HTML\n",
    "soup = BeautifulSoup(response.text, 'html.parser')\n",
    "\n",
    "# Пример: извлечение ссылок на новости и их текстов\n",
    "news_links = soup.find_all('p', class_ = \"text-info\")\n",
    "\n",
    "news_links"
   ]
  }
 ],
 "metadata": {
  "kernelspec": {
   "display_name": "Python 3",
   "language": "python",
   "name": "python3"
  },
  "language_info": {
   "codemirror_mode": {
    "name": "ipython",
    "version": 3
   },
   "file_extension": ".py",
   "mimetype": "text/x-python",
   "name": "python",
   "nbconvert_exporter": "python",
   "pygments_lexer": "ipython3",
   "version": "3.11.8"
  }
 },
 "nbformat": 4,
 "nbformat_minor": 2
}
